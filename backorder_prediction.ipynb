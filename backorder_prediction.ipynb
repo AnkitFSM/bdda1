{
  "cells": [
    {
      "cell_type": "code",
      "execution_count": 20,
      "metadata": {
        "execution": {
          "iopub.execute_input": "2021-06-27T17:00:04.498527Z",
          "iopub.status.busy": "2021-06-27T17:00:04.498248Z",
          "iopub.status.idle": "2021-06-27T17:00:04.504515Z",
          "shell.execute_reply": "2021-06-27T17:00:04.503784Z",
          "shell.execute_reply.started": "2021-06-27T17:00:04.49849Z"
        },
        "id": "Y64OLLRMSrIa"
      },
      "outputs": [],
      "source": [
        "import csv\n",
        "import numpy as np\n",
        "import pandas as pd\n",
        "import os\n",
        "import matplotlib.pyplot as plt\n",
        "from sklearn.ensemble import RandomForestClassifier\n",
        "from sklearn.tree import DecisionTreeRegressor\n",
        "from sklearn.model_selection import train_test_split\n",
        "from sklearn.metrics import mean_absolute_error,accuracy_score\n",
        "\n",
        "from pathlib import Path"
      ]
    },
    {
      "cell_type": "code",
      "source": [
        "from google.colab import drive\n",
        "drive.mount('/gdrive')"
      ],
      "metadata": {
        "colab": {
          "base_uri": "https://localhost:8080/"
        },
        "id": "KIwwAbArUDDi",
        "outputId": "e87df406-1847-4554-f33b-2379e42d2553"
      },
      "execution_count": 21,
      "outputs": [
        {
          "output_type": "stream",
          "name": "stdout",
          "text": [
            "Drive already mounted at /gdrive; to attempt to forcibly remount, call drive.mount(\"/gdrive\", force_remount=True).\n"
          ]
        }
      ]
    },
    {
      "cell_type": "code",
      "source": [
        "# Display from a cell outputs of multiple commands:\n",
        "\n",
        "from IPython.core.interactiveshell import InteractiveShell\n",
        "InteractiveShell.ast_node_interactivity = \"all\""
      ],
      "metadata": {
        "id": "OteeMkUBUWxv"
      },
      "execution_count": 22,
      "outputs": []
    },
    {
      "cell_type": "code",
      "source": [
        "# data location:\n",
        "\n",
        "pathToFolder = \"/gdrive/MyDrive/bdda1\""
      ],
      "metadata": {
        "id": "j8k2If2BUemR"
      },
      "execution_count": 23,
      "outputs": []
    },
    {
      "cell_type": "code",
      "source": [
        "path = Path(pathToFolder) / \"product_train.csv\""
      ],
      "metadata": {
        "id": "TDbUQ-F0UrL_"
      },
      "execution_count": 24,
      "outputs": []
    },
    {
      "cell_type": "code",
      "execution_count": 25,
      "metadata": {
        "execution": {
          "iopub.execute_input": "2021-06-27T17:00:04.505918Z",
          "iopub.status.busy": "2021-06-27T17:00:04.505504Z",
          "iopub.status.idle": "2021-06-27T17:00:05.383917Z",
          "shell.execute_reply": "2021-06-27T17:00:05.383178Z",
          "shell.execute_reply.started": "2021-06-27T17:00:04.505862Z"
        },
        "id": "Brh0njrkSrIe"
      },
      "outputs": [],
      "source": [
        "#  Load data:\n",
        "\n",
        "df = pd.read_csv(path)"
      ]
    },
    {
      "cell_type": "code",
      "execution_count": 26,
      "metadata": {
        "execution": {
          "iopub.execute_input": "2021-06-27T17:00:05.385346Z",
          "iopub.status.busy": "2021-06-27T17:00:05.38495Z",
          "iopub.status.idle": "2021-06-27T17:00:05.416535Z",
          "shell.execute_reply": "2021-06-27T17:00:05.415597Z",
          "shell.execute_reply.started": "2021-06-27T17:00:05.385288Z"
        },
        "colab": {
          "base_uri": "https://localhost:8080/",
          "height": 299
        },
        "id": "Mzhw19jZSrIf",
        "outputId": "c72734a8-7506-4edf-e0d5-413a347ba546"
      },
      "outputs": [
        {
          "output_type": "execute_result",
          "data": {
            "text/plain": [
              "       sku  national_inv  lead_time  in_transit_qty  forecast_3_month  \\\n",
              "0  3921548             8         12               0                 0   \n",
              "1  3191009            83          2              33               157   \n",
              "2  2935810             8          4               0                 0   \n",
              "3  2205847            31          4              63                70   \n",
              "4  4953497             3         12               0                 0   \n",
              "\n",
              "   forecast_6_month  forecast_9_month  sales_1_month  sales_3_month  \\\n",
              "0                 0                 0              1              1   \n",
              "1               377               603             44             98   \n",
              "2                 0                 0              0              0   \n",
              "3               160               223             27             90   \n",
              "4                 0                 0              0              0   \n",
              "\n",
              "   sales_6_month  ...  pieces_past_due  perf_6_month_avg perf_12_month_avg  \\\n",
              "0              2  ...                0              0.63              0.75   \n",
              "1            148  ...                0              0.68              0.66   \n",
              "2              1  ...                0              0.73              0.78   \n",
              "3            164  ...                0              0.73              0.78   \n",
              "4              0  ...                0              0.81              0.74   \n",
              "\n",
              "   local_bo_qty  deck_risk  oe_constraint  ppap_risk stop_auto_buy rev_stop  \\\n",
              "0             0         No             No         No           Yes       No   \n",
              "1             0         No             No         No           Yes       No   \n",
              "2             0         No             No         No           Yes       No   \n",
              "3             0         No             No        Yes           Yes       No   \n",
              "4             0         No             No         No           Yes       No   \n",
              "\n",
              "  went_on_backorder  \n",
              "0                No  \n",
              "1                No  \n",
              "2                No  \n",
              "3                No  \n",
              "4                No  \n",
              "\n",
              "[5 rows x 23 columns]"
            ],
            "text/html": [
              "\n",
              "\n",
              "  <div id=\"df-8daa2625-70f1-4292-ae87-f1ff133278fc\">\n",
              "    <div class=\"colab-df-container\">\n",
              "      <div>\n",
              "<style scoped>\n",
              "    .dataframe tbody tr th:only-of-type {\n",
              "        vertical-align: middle;\n",
              "    }\n",
              "\n",
              "    .dataframe tbody tr th {\n",
              "        vertical-align: top;\n",
              "    }\n",
              "\n",
              "    .dataframe thead th {\n",
              "        text-align: right;\n",
              "    }\n",
              "</style>\n",
              "<table border=\"1\" class=\"dataframe\">\n",
              "  <thead>\n",
              "    <tr style=\"text-align: right;\">\n",
              "      <th></th>\n",
              "      <th>sku</th>\n",
              "      <th>national_inv</th>\n",
              "      <th>lead_time</th>\n",
              "      <th>in_transit_qty</th>\n",
              "      <th>forecast_3_month</th>\n",
              "      <th>forecast_6_month</th>\n",
              "      <th>forecast_9_month</th>\n",
              "      <th>sales_1_month</th>\n",
              "      <th>sales_3_month</th>\n",
              "      <th>sales_6_month</th>\n",
              "      <th>...</th>\n",
              "      <th>pieces_past_due</th>\n",
              "      <th>perf_6_month_avg</th>\n",
              "      <th>perf_12_month_avg</th>\n",
              "      <th>local_bo_qty</th>\n",
              "      <th>deck_risk</th>\n",
              "      <th>oe_constraint</th>\n",
              "      <th>ppap_risk</th>\n",
              "      <th>stop_auto_buy</th>\n",
              "      <th>rev_stop</th>\n",
              "      <th>went_on_backorder</th>\n",
              "    </tr>\n",
              "  </thead>\n",
              "  <tbody>\n",
              "    <tr>\n",
              "      <th>0</th>\n",
              "      <td>3921548</td>\n",
              "      <td>8</td>\n",
              "      <td>12</td>\n",
              "      <td>0</td>\n",
              "      <td>0</td>\n",
              "      <td>0</td>\n",
              "      <td>0</td>\n",
              "      <td>1</td>\n",
              "      <td>1</td>\n",
              "      <td>2</td>\n",
              "      <td>...</td>\n",
              "      <td>0</td>\n",
              "      <td>0.63</td>\n",
              "      <td>0.75</td>\n",
              "      <td>0</td>\n",
              "      <td>No</td>\n",
              "      <td>No</td>\n",
              "      <td>No</td>\n",
              "      <td>Yes</td>\n",
              "      <td>No</td>\n",
              "      <td>No</td>\n",
              "    </tr>\n",
              "    <tr>\n",
              "      <th>1</th>\n",
              "      <td>3191009</td>\n",
              "      <td>83</td>\n",
              "      <td>2</td>\n",
              "      <td>33</td>\n",
              "      <td>157</td>\n",
              "      <td>377</td>\n",
              "      <td>603</td>\n",
              "      <td>44</td>\n",
              "      <td>98</td>\n",
              "      <td>148</td>\n",
              "      <td>...</td>\n",
              "      <td>0</td>\n",
              "      <td>0.68</td>\n",
              "      <td>0.66</td>\n",
              "      <td>0</td>\n",
              "      <td>No</td>\n",
              "      <td>No</td>\n",
              "      <td>No</td>\n",
              "      <td>Yes</td>\n",
              "      <td>No</td>\n",
              "      <td>No</td>\n",
              "    </tr>\n",
              "    <tr>\n",
              "      <th>2</th>\n",
              "      <td>2935810</td>\n",
              "      <td>8</td>\n",
              "      <td>4</td>\n",
              "      <td>0</td>\n",
              "      <td>0</td>\n",
              "      <td>0</td>\n",
              "      <td>0</td>\n",
              "      <td>0</td>\n",
              "      <td>0</td>\n",
              "      <td>1</td>\n",
              "      <td>...</td>\n",
              "      <td>0</td>\n",
              "      <td>0.73</td>\n",
              "      <td>0.78</td>\n",
              "      <td>0</td>\n",
              "      <td>No</td>\n",
              "      <td>No</td>\n",
              "      <td>No</td>\n",
              "      <td>Yes</td>\n",
              "      <td>No</td>\n",
              "      <td>No</td>\n",
              "    </tr>\n",
              "    <tr>\n",
              "      <th>3</th>\n",
              "      <td>2205847</td>\n",
              "      <td>31</td>\n",
              "      <td>4</td>\n",
              "      <td>63</td>\n",
              "      <td>70</td>\n",
              "      <td>160</td>\n",
              "      <td>223</td>\n",
              "      <td>27</td>\n",
              "      <td>90</td>\n",
              "      <td>164</td>\n",
              "      <td>...</td>\n",
              "      <td>0</td>\n",
              "      <td>0.73</td>\n",
              "      <td>0.78</td>\n",
              "      <td>0</td>\n",
              "      <td>No</td>\n",
              "      <td>No</td>\n",
              "      <td>Yes</td>\n",
              "      <td>Yes</td>\n",
              "      <td>No</td>\n",
              "      <td>No</td>\n",
              "    </tr>\n",
              "    <tr>\n",
              "      <th>4</th>\n",
              "      <td>4953497</td>\n",
              "      <td>3</td>\n",
              "      <td>12</td>\n",
              "      <td>0</td>\n",
              "      <td>0</td>\n",
              "      <td>0</td>\n",
              "      <td>0</td>\n",
              "      <td>0</td>\n",
              "      <td>0</td>\n",
              "      <td>0</td>\n",
              "      <td>...</td>\n",
              "      <td>0</td>\n",
              "      <td>0.81</td>\n",
              "      <td>0.74</td>\n",
              "      <td>0</td>\n",
              "      <td>No</td>\n",
              "      <td>No</td>\n",
              "      <td>No</td>\n",
              "      <td>Yes</td>\n",
              "      <td>No</td>\n",
              "      <td>No</td>\n",
              "    </tr>\n",
              "  </tbody>\n",
              "</table>\n",
              "<p>5 rows × 23 columns</p>\n",
              "</div>\n",
              "      <button class=\"colab-df-convert\" onclick=\"convertToInteractive('df-8daa2625-70f1-4292-ae87-f1ff133278fc')\"\n",
              "              title=\"Convert this dataframe to an interactive table.\"\n",
              "              style=\"display:none;\">\n",
              "\n",
              "  <svg xmlns=\"http://www.w3.org/2000/svg\" height=\"24px\"viewBox=\"0 0 24 24\"\n",
              "       width=\"24px\">\n",
              "    <path d=\"M0 0h24v24H0V0z\" fill=\"none\"/>\n",
              "    <path d=\"M18.56 5.44l.94 2.06.94-2.06 2.06-.94-2.06-.94-.94-2.06-.94 2.06-2.06.94zm-11 1L8.5 8.5l.94-2.06 2.06-.94-2.06-.94L8.5 2.5l-.94 2.06-2.06.94zm10 10l.94 2.06.94-2.06 2.06-.94-2.06-.94-.94-2.06-.94 2.06-2.06.94z\"/><path d=\"M17.41 7.96l-1.37-1.37c-.4-.4-.92-.59-1.43-.59-.52 0-1.04.2-1.43.59L10.3 9.45l-7.72 7.72c-.78.78-.78 2.05 0 2.83L4 21.41c.39.39.9.59 1.41.59.51 0 1.02-.2 1.41-.59l7.78-7.78 2.81-2.81c.8-.78.8-2.07 0-2.86zM5.41 20L4 18.59l7.72-7.72 1.47 1.35L5.41 20z\"/>\n",
              "  </svg>\n",
              "      </button>\n",
              "\n",
              "\n",
              "\n",
              "    <div id=\"df-82a4e748-4632-4f45-9d0c-f7dc7d0a46e7\">\n",
              "      <button class=\"colab-df-quickchart\" onclick=\"quickchart('df-82a4e748-4632-4f45-9d0c-f7dc7d0a46e7')\"\n",
              "              title=\"Suggest charts.\"\n",
              "              style=\"display:none;\">\n",
              "\n",
              "<svg xmlns=\"http://www.w3.org/2000/svg\" height=\"24px\"viewBox=\"0 0 24 24\"\n",
              "     width=\"24px\">\n",
              "    <g>\n",
              "        <path d=\"M19 3H5c-1.1 0-2 .9-2 2v14c0 1.1.9 2 2 2h14c1.1 0 2-.9 2-2V5c0-1.1-.9-2-2-2zM9 17H7v-7h2v7zm4 0h-2V7h2v10zm4 0h-2v-4h2v4z\"/>\n",
              "    </g>\n",
              "</svg>\n",
              "      </button>\n",
              "    </div>\n",
              "\n",
              "<style>\n",
              "  .colab-df-quickchart {\n",
              "    background-color: #E8F0FE;\n",
              "    border: none;\n",
              "    border-radius: 50%;\n",
              "    cursor: pointer;\n",
              "    display: none;\n",
              "    fill: #1967D2;\n",
              "    height: 32px;\n",
              "    padding: 0 0 0 0;\n",
              "    width: 32px;\n",
              "  }\n",
              "\n",
              "  .colab-df-quickchart:hover {\n",
              "    background-color: #E2EBFA;\n",
              "    box-shadow: 0px 1px 2px rgba(60, 64, 67, 0.3), 0px 1px 3px 1px rgba(60, 64, 67, 0.15);\n",
              "    fill: #174EA6;\n",
              "  }\n",
              "\n",
              "  [theme=dark] .colab-df-quickchart {\n",
              "    background-color: #3B4455;\n",
              "    fill: #D2E3FC;\n",
              "  }\n",
              "\n",
              "  [theme=dark] .colab-df-quickchart:hover {\n",
              "    background-color: #434B5C;\n",
              "    box-shadow: 0px 1px 3px 1px rgba(0, 0, 0, 0.15);\n",
              "    filter: drop-shadow(0px 1px 2px rgba(0, 0, 0, 0.3));\n",
              "    fill: #FFFFFF;\n",
              "  }\n",
              "</style>\n",
              "\n",
              "    <script>\n",
              "      async function quickchart(key) {\n",
              "        const containerElement = document.querySelector('#' + key);\n",
              "        const charts = await google.colab.kernel.invokeFunction(\n",
              "            'suggestCharts', [key], {});\n",
              "      }\n",
              "    </script>\n",
              "\n",
              "\n",
              "      <script>\n",
              "\n",
              "function displayQuickchartButton(domScope) {\n",
              "  let quickchartButtonEl =\n",
              "    domScope.querySelector('#df-82a4e748-4632-4f45-9d0c-f7dc7d0a46e7 button.colab-df-quickchart');\n",
              "  quickchartButtonEl.style.display =\n",
              "    google.colab.kernel.accessAllowed ? 'block' : 'none';\n",
              "}\n",
              "\n",
              "        displayQuickchartButton(document);\n",
              "      </script>\n",
              "      <style>\n",
              "    .colab-df-container {\n",
              "      display:flex;\n",
              "      flex-wrap:wrap;\n",
              "      gap: 12px;\n",
              "    }\n",
              "\n",
              "    .colab-df-convert {\n",
              "      background-color: #E8F0FE;\n",
              "      border: none;\n",
              "      border-radius: 50%;\n",
              "      cursor: pointer;\n",
              "      display: none;\n",
              "      fill: #1967D2;\n",
              "      height: 32px;\n",
              "      padding: 0 0 0 0;\n",
              "      width: 32px;\n",
              "    }\n",
              "\n",
              "    .colab-df-convert:hover {\n",
              "      background-color: #E2EBFA;\n",
              "      box-shadow: 0px 1px 2px rgba(60, 64, 67, 0.3), 0px 1px 3px 1px rgba(60, 64, 67, 0.15);\n",
              "      fill: #174EA6;\n",
              "    }\n",
              "\n",
              "    [theme=dark] .colab-df-convert {\n",
              "      background-color: #3B4455;\n",
              "      fill: #D2E3FC;\n",
              "    }\n",
              "\n",
              "    [theme=dark] .colab-df-convert:hover {\n",
              "      background-color: #434B5C;\n",
              "      box-shadow: 0px 1px 3px 1px rgba(0, 0, 0, 0.15);\n",
              "      filter: drop-shadow(0px 1px 2px rgba(0, 0, 0, 0.3));\n",
              "      fill: #FFFFFF;\n",
              "    }\n",
              "  </style>\n",
              "\n",
              "      <script>\n",
              "        const buttonEl =\n",
              "          document.querySelector('#df-8daa2625-70f1-4292-ae87-f1ff133278fc button.colab-df-convert');\n",
              "        buttonEl.style.display =\n",
              "          google.colab.kernel.accessAllowed ? 'block' : 'none';\n",
              "\n",
              "        async function convertToInteractive(key) {\n",
              "          const element = document.querySelector('#df-8daa2625-70f1-4292-ae87-f1ff133278fc');\n",
              "          const dataTable =\n",
              "            await google.colab.kernel.invokeFunction('convertToInteractive',\n",
              "                                                     [key], {});\n",
              "          if (!dataTable) return;\n",
              "\n",
              "          const docLinkHtml = 'Like what you see? Visit the ' +\n",
              "            '<a target=\"_blank\" href=https://colab.research.google.com/notebooks/data_table.ipynb>data table notebook</a>'\n",
              "            + ' to learn more about interactive tables.';\n",
              "          element.innerHTML = '';\n",
              "          dataTable['output_type'] = 'display_data';\n",
              "          await google.colab.output.renderOutput(dataTable, element);\n",
              "          const docLink = document.createElement('div');\n",
              "          docLink.innerHTML = docLinkHtml;\n",
              "          element.appendChild(docLink);\n",
              "        }\n",
              "      </script>\n",
              "    </div>\n",
              "  </div>\n"
            ]
          },
          "metadata": {},
          "execution_count": 26
        }
      ],
      "source": [
        "# first 5 entries\n",
        "df.head(5)\n"
      ]
    },
    {
      "cell_type": "code",
      "execution_count": 27,
      "metadata": {
        "execution": {
          "iopub.execute_input": "2021-06-27T17:00:05.418078Z",
          "iopub.status.busy": "2021-06-27T17:00:05.417796Z",
          "iopub.status.idle": "2021-06-27T17:00:05.641697Z",
          "shell.execute_reply": "2021-06-27T17:00:05.640926Z",
          "shell.execute_reply.started": "2021-06-27T17:00:05.418025Z"
        },
        "colab": {
          "base_uri": "https://localhost:8080/"
        },
        "id": "XMkiYUhWSrIg",
        "outputId": "178b93ad-e805-4615-8a2c-c8b3cc947ae6"
      },
      "outputs": [
        {
          "output_type": "stream",
          "name": "stdout",
          "text": [
            "<class 'pandas.core.frame.DataFrame'>\n",
            "RangeIndex: 250078 entries, 0 to 250077\n",
            "Data columns (total 23 columns):\n",
            " #   Column             Non-Null Count   Dtype  \n",
            "---  ------             --------------   -----  \n",
            " 0   sku                250078 non-null  int64  \n",
            " 1   national_inv       250078 non-null  int64  \n",
            " 2   lead_time          250078 non-null  int64  \n",
            " 3   in_transit_qty     250078 non-null  int64  \n",
            " 4   forecast_3_month   250078 non-null  int64  \n",
            " 5   forecast_6_month   250078 non-null  int64  \n",
            " 6   forecast_9_month   250078 non-null  int64  \n",
            " 7   sales_1_month      250078 non-null  int64  \n",
            " 8   sales_3_month      250078 non-null  int64  \n",
            " 9   sales_6_month      250078 non-null  int64  \n",
            " 10  sales_9_month      250078 non-null  int64  \n",
            " 11  min_bank           250078 non-null  int64  \n",
            " 12  potential_issue    250078 non-null  object \n",
            " 13  pieces_past_due    250078 non-null  int64  \n",
            " 14  perf_6_month_avg   250078 non-null  float64\n",
            " 15  perf_12_month_avg  250078 non-null  float64\n",
            " 16  local_bo_qty       250078 non-null  int64  \n",
            " 17  deck_risk          250078 non-null  object \n",
            " 18  oe_constraint      250078 non-null  object \n",
            " 19  ppap_risk          250078 non-null  object \n",
            " 20  stop_auto_buy      250078 non-null  object \n",
            " 21  rev_stop           250078 non-null  object \n",
            " 22  went_on_backorder  250078 non-null  object \n",
            "dtypes: float64(2), int64(14), object(7)\n",
            "memory usage: 43.9+ MB\n"
          ]
        }
      ],
      "source": [
        "df.info()"
      ]
    },
    {
      "cell_type": "code",
      "source": [
        "df.shape"
      ],
      "metadata": {
        "colab": {
          "base_uri": "https://localhost:8080/"
        },
        "id": "R27680BEnGeh",
        "outputId": "b8c09936-dc99-46e2-ca02-3944f5955c85"
      },
      "execution_count": 32,
      "outputs": [
        {
          "output_type": "execute_result",
          "data": {
            "text/plain": [
              "(250078, 23)"
            ]
          },
          "metadata": {},
          "execution_count": 32
        }
      ]
    },
    {
      "cell_type": "code",
      "source": [
        "df.describe()"
      ],
      "metadata": {
        "colab": {
          "base_uri": "https://localhost:8080/",
          "height": 393
        },
        "id": "hnveabZ8nMMc",
        "outputId": "8229b073-801c-451e-8d13-def6c48eb757"
      },
      "execution_count": 33,
      "outputs": [
        {
          "output_type": "execute_result",
          "data": {
            "text/plain": [
              "                sku  national_inv      lead_time  in_transit_qty  \\\n",
              "count  2.500780e+05  2.500780e+05  250078.000000   250078.000000   \n",
              "mean   3.445092e+06  3.530814e+02       7.831764       43.495673   \n",
              "std    7.774587e+05  5.734557e+03       6.760722     1076.528522   \n",
              "min    2.065611e+06 -3.034000e+04       0.000000        0.000000   \n",
              "25%    2.984056e+06  4.000000e+00       4.000000        0.000000   \n",
              "50%    3.409472e+06  1.400000e+01       8.000000        0.000000   \n",
              "75%    3.832655e+06  7.600000e+01       9.000000        0.000000   \n",
              "max    4.986449e+06  1.165770e+06      52.000000   276703.000000   \n",
              "\n",
              "       forecast_3_month  forecast_6_month  forecast_9_month  sales_1_month  \\\n",
              "count      2.500780e+05      2.500780e+05      2.500780e+05  250078.000000   \n",
              "mean       1.928422e+02      3.618791e+02      5.306028e+02      54.319968   \n",
              "std        5.728252e+03      1.012271e+04      1.468183e+04    1562.466565   \n",
              "min        0.000000e+00      0.000000e+00      0.000000e+00       0.000000   \n",
              "25%        0.000000e+00      0.000000e+00      0.000000e+00       0.000000   \n",
              "50%        0.000000e+00      0.000000e+00      0.000000e+00       0.000000   \n",
              "75%        6.000000e+00      1.600000e+01      2.600000e+01       5.000000   \n",
              "max        1.242940e+06      2.056820e+06      3.103460e+06  358011.000000   \n",
              "\n",
              "       sales_3_month  sales_6_month  ...  pieces_past_due  perf_6_month_avg  \\\n",
              "count   2.500780e+05   2.500780e+05  ...    250078.000000     250078.000000   \n",
              "mean    1.785464e+02   3.532202e+02  ...         1.746255          0.772383   \n",
              "std     5.188470e+03   1.016469e+04  ...       180.670668          0.241953   \n",
              "min     0.000000e+00   0.000000e+00  ...         0.000000          0.000000   \n",
              "25%     0.000000e+00   0.000000e+00  ...         0.000000          0.700000   \n",
              "50%     1.000000e+00   3.000000e+00  ...         0.000000          0.830000   \n",
              "75%     1.600000e+01   3.300000e+01  ...         0.000000          0.970000   \n",
              "max     1.094112e+06   2.123946e+06  ...     54868.000000          1.000000   \n",
              "\n",
              "       perf_12_month_avg   local_bo_qty      deck_risk  oe_constraint  \\\n",
              "count      250078.000000  250078.000000  250078.000000  250078.000000   \n",
              "mean            0.776106       0.682995       0.175077       0.000168   \n",
              "std             0.230465      42.306053       0.380034       0.012958   \n",
              "min             0.000000       0.000000       0.000000       0.000000   \n",
              "25%             0.690000       0.000000       0.000000       0.000000   \n",
              "50%             0.830000       0.000000       0.000000       0.000000   \n",
              "75%             0.960000       0.000000       0.000000       0.000000   \n",
              "max             1.000000   12000.000000       1.000000       1.000000   \n",
              "\n",
              "           ppap_risk  stop_auto_buy       rev_stop  went_on_backorder  \n",
              "count  250078.000000  250078.000000  250078.000000      250078.000000  \n",
              "mean        0.114668       0.025960       0.000240           0.006458  \n",
              "std         0.318622       0.159016       0.015488           0.080102  \n",
              "min         0.000000       0.000000       0.000000           0.000000  \n",
              "25%         0.000000       0.000000       0.000000           0.000000  \n",
              "50%         0.000000       0.000000       0.000000           0.000000  \n",
              "75%         0.000000       0.000000       0.000000           0.000000  \n",
              "max         1.000000       1.000000       1.000000           1.000000  \n",
              "\n",
              "[8 rows x 23 columns]"
            ],
            "text/html": [
              "\n",
              "\n",
              "  <div id=\"df-2864109e-37b3-4505-895c-affa0669eb51\">\n",
              "    <div class=\"colab-df-container\">\n",
              "      <div>\n",
              "<style scoped>\n",
              "    .dataframe tbody tr th:only-of-type {\n",
              "        vertical-align: middle;\n",
              "    }\n",
              "\n",
              "    .dataframe tbody tr th {\n",
              "        vertical-align: top;\n",
              "    }\n",
              "\n",
              "    .dataframe thead th {\n",
              "        text-align: right;\n",
              "    }\n",
              "</style>\n",
              "<table border=\"1\" class=\"dataframe\">\n",
              "  <thead>\n",
              "    <tr style=\"text-align: right;\">\n",
              "      <th></th>\n",
              "      <th>sku</th>\n",
              "      <th>national_inv</th>\n",
              "      <th>lead_time</th>\n",
              "      <th>in_transit_qty</th>\n",
              "      <th>forecast_3_month</th>\n",
              "      <th>forecast_6_month</th>\n",
              "      <th>forecast_9_month</th>\n",
              "      <th>sales_1_month</th>\n",
              "      <th>sales_3_month</th>\n",
              "      <th>sales_6_month</th>\n",
              "      <th>...</th>\n",
              "      <th>pieces_past_due</th>\n",
              "      <th>perf_6_month_avg</th>\n",
              "      <th>perf_12_month_avg</th>\n",
              "      <th>local_bo_qty</th>\n",
              "      <th>deck_risk</th>\n",
              "      <th>oe_constraint</th>\n",
              "      <th>ppap_risk</th>\n",
              "      <th>stop_auto_buy</th>\n",
              "      <th>rev_stop</th>\n",
              "      <th>went_on_backorder</th>\n",
              "    </tr>\n",
              "  </thead>\n",
              "  <tbody>\n",
              "    <tr>\n",
              "      <th>count</th>\n",
              "      <td>2.500780e+05</td>\n",
              "      <td>2.500780e+05</td>\n",
              "      <td>250078.000000</td>\n",
              "      <td>250078.000000</td>\n",
              "      <td>2.500780e+05</td>\n",
              "      <td>2.500780e+05</td>\n",
              "      <td>2.500780e+05</td>\n",
              "      <td>250078.000000</td>\n",
              "      <td>2.500780e+05</td>\n",
              "      <td>2.500780e+05</td>\n",
              "      <td>...</td>\n",
              "      <td>250078.000000</td>\n",
              "      <td>250078.000000</td>\n",
              "      <td>250078.000000</td>\n",
              "      <td>250078.000000</td>\n",
              "      <td>250078.000000</td>\n",
              "      <td>250078.000000</td>\n",
              "      <td>250078.000000</td>\n",
              "      <td>250078.000000</td>\n",
              "      <td>250078.000000</td>\n",
              "      <td>250078.000000</td>\n",
              "    </tr>\n",
              "    <tr>\n",
              "      <th>mean</th>\n",
              "      <td>3.445092e+06</td>\n",
              "      <td>3.530814e+02</td>\n",
              "      <td>7.831764</td>\n",
              "      <td>43.495673</td>\n",
              "      <td>1.928422e+02</td>\n",
              "      <td>3.618791e+02</td>\n",
              "      <td>5.306028e+02</td>\n",
              "      <td>54.319968</td>\n",
              "      <td>1.785464e+02</td>\n",
              "      <td>3.532202e+02</td>\n",
              "      <td>...</td>\n",
              "      <td>1.746255</td>\n",
              "      <td>0.772383</td>\n",
              "      <td>0.776106</td>\n",
              "      <td>0.682995</td>\n",
              "      <td>0.175077</td>\n",
              "      <td>0.000168</td>\n",
              "      <td>0.114668</td>\n",
              "      <td>0.025960</td>\n",
              "      <td>0.000240</td>\n",
              "      <td>0.006458</td>\n",
              "    </tr>\n",
              "    <tr>\n",
              "      <th>std</th>\n",
              "      <td>7.774587e+05</td>\n",
              "      <td>5.734557e+03</td>\n",
              "      <td>6.760722</td>\n",
              "      <td>1076.528522</td>\n",
              "      <td>5.728252e+03</td>\n",
              "      <td>1.012271e+04</td>\n",
              "      <td>1.468183e+04</td>\n",
              "      <td>1562.466565</td>\n",
              "      <td>5.188470e+03</td>\n",
              "      <td>1.016469e+04</td>\n",
              "      <td>...</td>\n",
              "      <td>180.670668</td>\n",
              "      <td>0.241953</td>\n",
              "      <td>0.230465</td>\n",
              "      <td>42.306053</td>\n",
              "      <td>0.380034</td>\n",
              "      <td>0.012958</td>\n",
              "      <td>0.318622</td>\n",
              "      <td>0.159016</td>\n",
              "      <td>0.015488</td>\n",
              "      <td>0.080102</td>\n",
              "    </tr>\n",
              "    <tr>\n",
              "      <th>min</th>\n",
              "      <td>2.065611e+06</td>\n",
              "      <td>-3.034000e+04</td>\n",
              "      <td>0.000000</td>\n",
              "      <td>0.000000</td>\n",
              "      <td>0.000000e+00</td>\n",
              "      <td>0.000000e+00</td>\n",
              "      <td>0.000000e+00</td>\n",
              "      <td>0.000000</td>\n",
              "      <td>0.000000e+00</td>\n",
              "      <td>0.000000e+00</td>\n",
              "      <td>...</td>\n",
              "      <td>0.000000</td>\n",
              "      <td>0.000000</td>\n",
              "      <td>0.000000</td>\n",
              "      <td>0.000000</td>\n",
              "      <td>0.000000</td>\n",
              "      <td>0.000000</td>\n",
              "      <td>0.000000</td>\n",
              "      <td>0.000000</td>\n",
              "      <td>0.000000</td>\n",
              "      <td>0.000000</td>\n",
              "    </tr>\n",
              "    <tr>\n",
              "      <th>25%</th>\n",
              "      <td>2.984056e+06</td>\n",
              "      <td>4.000000e+00</td>\n",
              "      <td>4.000000</td>\n",
              "      <td>0.000000</td>\n",
              "      <td>0.000000e+00</td>\n",
              "      <td>0.000000e+00</td>\n",
              "      <td>0.000000e+00</td>\n",
              "      <td>0.000000</td>\n",
              "      <td>0.000000e+00</td>\n",
              "      <td>0.000000e+00</td>\n",
              "      <td>...</td>\n",
              "      <td>0.000000</td>\n",
              "      <td>0.700000</td>\n",
              "      <td>0.690000</td>\n",
              "      <td>0.000000</td>\n",
              "      <td>0.000000</td>\n",
              "      <td>0.000000</td>\n",
              "      <td>0.000000</td>\n",
              "      <td>0.000000</td>\n",
              "      <td>0.000000</td>\n",
              "      <td>0.000000</td>\n",
              "    </tr>\n",
              "    <tr>\n",
              "      <th>50%</th>\n",
              "      <td>3.409472e+06</td>\n",
              "      <td>1.400000e+01</td>\n",
              "      <td>8.000000</td>\n",
              "      <td>0.000000</td>\n",
              "      <td>0.000000e+00</td>\n",
              "      <td>0.000000e+00</td>\n",
              "      <td>0.000000e+00</td>\n",
              "      <td>0.000000</td>\n",
              "      <td>1.000000e+00</td>\n",
              "      <td>3.000000e+00</td>\n",
              "      <td>...</td>\n",
              "      <td>0.000000</td>\n",
              "      <td>0.830000</td>\n",
              "      <td>0.830000</td>\n",
              "      <td>0.000000</td>\n",
              "      <td>0.000000</td>\n",
              "      <td>0.000000</td>\n",
              "      <td>0.000000</td>\n",
              "      <td>0.000000</td>\n",
              "      <td>0.000000</td>\n",
              "      <td>0.000000</td>\n",
              "    </tr>\n",
              "    <tr>\n",
              "      <th>75%</th>\n",
              "      <td>3.832655e+06</td>\n",
              "      <td>7.600000e+01</td>\n",
              "      <td>9.000000</td>\n",
              "      <td>0.000000</td>\n",
              "      <td>6.000000e+00</td>\n",
              "      <td>1.600000e+01</td>\n",
              "      <td>2.600000e+01</td>\n",
              "      <td>5.000000</td>\n",
              "      <td>1.600000e+01</td>\n",
              "      <td>3.300000e+01</td>\n",
              "      <td>...</td>\n",
              "      <td>0.000000</td>\n",
              "      <td>0.970000</td>\n",
              "      <td>0.960000</td>\n",
              "      <td>0.000000</td>\n",
              "      <td>0.000000</td>\n",
              "      <td>0.000000</td>\n",
              "      <td>0.000000</td>\n",
              "      <td>0.000000</td>\n",
              "      <td>0.000000</td>\n",
              "      <td>0.000000</td>\n",
              "    </tr>\n",
              "    <tr>\n",
              "      <th>max</th>\n",
              "      <td>4.986449e+06</td>\n",
              "      <td>1.165770e+06</td>\n",
              "      <td>52.000000</td>\n",
              "      <td>276703.000000</td>\n",
              "      <td>1.242940e+06</td>\n",
              "      <td>2.056820e+06</td>\n",
              "      <td>3.103460e+06</td>\n",
              "      <td>358011.000000</td>\n",
              "      <td>1.094112e+06</td>\n",
              "      <td>2.123946e+06</td>\n",
              "      <td>...</td>\n",
              "      <td>54868.000000</td>\n",
              "      <td>1.000000</td>\n",
              "      <td>1.000000</td>\n",
              "      <td>12000.000000</td>\n",
              "      <td>1.000000</td>\n",
              "      <td>1.000000</td>\n",
              "      <td>1.000000</td>\n",
              "      <td>1.000000</td>\n",
              "      <td>1.000000</td>\n",
              "      <td>1.000000</td>\n",
              "    </tr>\n",
              "  </tbody>\n",
              "</table>\n",
              "<p>8 rows × 23 columns</p>\n",
              "</div>\n",
              "      <button class=\"colab-df-convert\" onclick=\"convertToInteractive('df-2864109e-37b3-4505-895c-affa0669eb51')\"\n",
              "              title=\"Convert this dataframe to an interactive table.\"\n",
              "              style=\"display:none;\">\n",
              "\n",
              "  <svg xmlns=\"http://www.w3.org/2000/svg\" height=\"24px\"viewBox=\"0 0 24 24\"\n",
              "       width=\"24px\">\n",
              "    <path d=\"M0 0h24v24H0V0z\" fill=\"none\"/>\n",
              "    <path d=\"M18.56 5.44l.94 2.06.94-2.06 2.06-.94-2.06-.94-.94-2.06-.94 2.06-2.06.94zm-11 1L8.5 8.5l.94-2.06 2.06-.94-2.06-.94L8.5 2.5l-.94 2.06-2.06.94zm10 10l.94 2.06.94-2.06 2.06-.94-2.06-.94-.94-2.06-.94 2.06-2.06.94z\"/><path d=\"M17.41 7.96l-1.37-1.37c-.4-.4-.92-.59-1.43-.59-.52 0-1.04.2-1.43.59L10.3 9.45l-7.72 7.72c-.78.78-.78 2.05 0 2.83L4 21.41c.39.39.9.59 1.41.59.51 0 1.02-.2 1.41-.59l7.78-7.78 2.81-2.81c.8-.78.8-2.07 0-2.86zM5.41 20L4 18.59l7.72-7.72 1.47 1.35L5.41 20z\"/>\n",
              "  </svg>\n",
              "      </button>\n",
              "\n",
              "\n",
              "\n",
              "    <div id=\"df-1259844c-74a2-42a8-b125-9821e32c1169\">\n",
              "      <button class=\"colab-df-quickchart\" onclick=\"quickchart('df-1259844c-74a2-42a8-b125-9821e32c1169')\"\n",
              "              title=\"Suggest charts.\"\n",
              "              style=\"display:none;\">\n",
              "\n",
              "<svg xmlns=\"http://www.w3.org/2000/svg\" height=\"24px\"viewBox=\"0 0 24 24\"\n",
              "     width=\"24px\">\n",
              "    <g>\n",
              "        <path d=\"M19 3H5c-1.1 0-2 .9-2 2v14c0 1.1.9 2 2 2h14c1.1 0 2-.9 2-2V5c0-1.1-.9-2-2-2zM9 17H7v-7h2v7zm4 0h-2V7h2v10zm4 0h-2v-4h2v4z\"/>\n",
              "    </g>\n",
              "</svg>\n",
              "      </button>\n",
              "    </div>\n",
              "\n",
              "<style>\n",
              "  .colab-df-quickchart {\n",
              "    background-color: #E8F0FE;\n",
              "    border: none;\n",
              "    border-radius: 50%;\n",
              "    cursor: pointer;\n",
              "    display: none;\n",
              "    fill: #1967D2;\n",
              "    height: 32px;\n",
              "    padding: 0 0 0 0;\n",
              "    width: 32px;\n",
              "  }\n",
              "\n",
              "  .colab-df-quickchart:hover {\n",
              "    background-color: #E2EBFA;\n",
              "    box-shadow: 0px 1px 2px rgba(60, 64, 67, 0.3), 0px 1px 3px 1px rgba(60, 64, 67, 0.15);\n",
              "    fill: #174EA6;\n",
              "  }\n",
              "\n",
              "  [theme=dark] .colab-df-quickchart {\n",
              "    background-color: #3B4455;\n",
              "    fill: #D2E3FC;\n",
              "  }\n",
              "\n",
              "  [theme=dark] .colab-df-quickchart:hover {\n",
              "    background-color: #434B5C;\n",
              "    box-shadow: 0px 1px 3px 1px rgba(0, 0, 0, 0.15);\n",
              "    filter: drop-shadow(0px 1px 2px rgba(0, 0, 0, 0.3));\n",
              "    fill: #FFFFFF;\n",
              "  }\n",
              "</style>\n",
              "\n",
              "    <script>\n",
              "      async function quickchart(key) {\n",
              "        const containerElement = document.querySelector('#' + key);\n",
              "        const charts = await google.colab.kernel.invokeFunction(\n",
              "            'suggestCharts', [key], {});\n",
              "      }\n",
              "    </script>\n",
              "\n",
              "\n",
              "      <script>\n",
              "\n",
              "function displayQuickchartButton(domScope) {\n",
              "  let quickchartButtonEl =\n",
              "    domScope.querySelector('#df-1259844c-74a2-42a8-b125-9821e32c1169 button.colab-df-quickchart');\n",
              "  quickchartButtonEl.style.display =\n",
              "    google.colab.kernel.accessAllowed ? 'block' : 'none';\n",
              "}\n",
              "\n",
              "        displayQuickchartButton(document);\n",
              "      </script>\n",
              "      <style>\n",
              "    .colab-df-container {\n",
              "      display:flex;\n",
              "      flex-wrap:wrap;\n",
              "      gap: 12px;\n",
              "    }\n",
              "\n",
              "    .colab-df-convert {\n",
              "      background-color: #E8F0FE;\n",
              "      border: none;\n",
              "      border-radius: 50%;\n",
              "      cursor: pointer;\n",
              "      display: none;\n",
              "      fill: #1967D2;\n",
              "      height: 32px;\n",
              "      padding: 0 0 0 0;\n",
              "      width: 32px;\n",
              "    }\n",
              "\n",
              "    .colab-df-convert:hover {\n",
              "      background-color: #E2EBFA;\n",
              "      box-shadow: 0px 1px 2px rgba(60, 64, 67, 0.3), 0px 1px 3px 1px rgba(60, 64, 67, 0.15);\n",
              "      fill: #174EA6;\n",
              "    }\n",
              "\n",
              "    [theme=dark] .colab-df-convert {\n",
              "      background-color: #3B4455;\n",
              "      fill: #D2E3FC;\n",
              "    }\n",
              "\n",
              "    [theme=dark] .colab-df-convert:hover {\n",
              "      background-color: #434B5C;\n",
              "      box-shadow: 0px 1px 3px 1px rgba(0, 0, 0, 0.15);\n",
              "      filter: drop-shadow(0px 1px 2px rgba(0, 0, 0, 0.3));\n",
              "      fill: #FFFFFF;\n",
              "    }\n",
              "  </style>\n",
              "\n",
              "      <script>\n",
              "        const buttonEl =\n",
              "          document.querySelector('#df-2864109e-37b3-4505-895c-affa0669eb51 button.colab-df-convert');\n",
              "        buttonEl.style.display =\n",
              "          google.colab.kernel.accessAllowed ? 'block' : 'none';\n",
              "\n",
              "        async function convertToInteractive(key) {\n",
              "          const element = document.querySelector('#df-2864109e-37b3-4505-895c-affa0669eb51');\n",
              "          const dataTable =\n",
              "            await google.colab.kernel.invokeFunction('convertToInteractive',\n",
              "                                                     [key], {});\n",
              "          if (!dataTable) return;\n",
              "\n",
              "          const docLinkHtml = 'Like what you see? Visit the ' +\n",
              "            '<a target=\"_blank\" href=https://colab.research.google.com/notebooks/data_table.ipynb>data table notebook</a>'\n",
              "            + ' to learn more about interactive tables.';\n",
              "          element.innerHTML = '';\n",
              "          dataTable['output_type'] = 'display_data';\n",
              "          await google.colab.output.renderOutput(dataTable, element);\n",
              "          const docLink = document.createElement('div');\n",
              "          docLink.innerHTML = docLinkHtml;\n",
              "          element.appendChild(docLink);\n",
              "        }\n",
              "      </script>\n",
              "    </div>\n",
              "  </div>\n"
            ]
          },
          "metadata": {},
          "execution_count": 33
        }
      ]
    },
    {
      "cell_type": "code",
      "execution_count": 28,
      "metadata": {
        "execution": {
          "iopub.execute_input": "2021-06-27T17:00:05.643175Z",
          "iopub.status.busy": "2021-06-27T17:00:05.642913Z",
          "iopub.status.idle": "2021-06-27T17:00:05.737619Z",
          "shell.execute_reply": "2021-06-27T17:00:05.736683Z",
          "shell.execute_reply.started": "2021-06-27T17:00:05.643124Z"
        },
        "colab": {
          "base_uri": "https://localhost:8080/"
        },
        "id": "uY-cnQx3SrIh",
        "outputId": "31dc4c8f-6429-40cf-ecaa-9ad265087bff"
      },
      "outputs": [
        {
          "output_type": "execute_result",
          "data": {
            "text/plain": [
              "No     248463\n",
              "Yes      1615\n",
              "Name: went_on_backorder, dtype: int64"
            ]
          },
          "metadata": {},
          "execution_count": 28
        }
      ],
      "source": [
        "df['went_on_backorder'].value_counts()"
      ]
    },
    {
      "cell_type": "code",
      "execution_count": 35,
      "metadata": {
        "execution": {
          "iopub.execute_input": "2021-06-27T17:00:05.739599Z",
          "iopub.status.busy": "2021-06-27T17:00:05.73921Z",
          "iopub.status.idle": "2021-06-27T17:00:05.961795Z",
          "shell.execute_reply": "2021-06-27T17:00:05.960892Z",
          "shell.execute_reply.started": "2021-06-27T17:00:05.73951Z"
        },
        "colab": {
          "base_uri": "https://localhost:8080/"
        },
        "id": "JusAH5t1SrIh",
        "outputId": "efaf0c27-46c6-483b-a526-f218f5e92d26"
      },
      "outputs": [
        {
          "output_type": "execute_result",
          "data": {
            "text/plain": [
              "sku                  0\n",
              "national_inv         0\n",
              "lead_time            0\n",
              "in_transit_qty       0\n",
              "forecast_3_month     0\n",
              "forecast_6_month     0\n",
              "forecast_9_month     0\n",
              "sales_1_month        0\n",
              "sales_3_month        0\n",
              "sales_6_month        0\n",
              "sales_9_month        0\n",
              "min_bank             0\n",
              "potential_issue      0\n",
              "pieces_past_due      0\n",
              "perf_6_month_avg     0\n",
              "perf_12_month_avg    0\n",
              "local_bo_qty         0\n",
              "deck_risk            0\n",
              "oe_constraint        0\n",
              "ppap_risk            0\n",
              "stop_auto_buy        0\n",
              "rev_stop             0\n",
              "went_on_backorder    0\n",
              "dtype: int64"
            ]
          },
          "metadata": {},
          "execution_count": 35
        }
      ],
      "source": [
        "df.isnull().sum()"
      ]
    },
    {
      "cell_type": "code",
      "source": [
        "#Target variable analysis\n",
        "fig = df['went_on_backorder'].value_counts().plot.bar()\n",
        "fig.set_xlabel('Number of back orders or nonback orders')\n",
        "fig.set_ylabel('counts')"
      ],
      "metadata": {
        "colab": {
          "base_uri": "https://localhost:8080/",
          "height": 461
        },
        "id": "nkcEq1SN6z2n",
        "outputId": "6c9a57ad-3a1b-4034-b55a-3913cfa77586"
      },
      "execution_count": 37,
      "outputs": [
        {
          "output_type": "execute_result",
          "data": {
            "text/plain": [
              "Text(0.5, 0, 'Number of back orders or nonback orders')"
            ]
          },
          "metadata": {},
          "execution_count": 37
        },
        {
          "output_type": "execute_result",
          "data": {
            "text/plain": [
              "Text(0, 0.5, 'counts')"
            ]
          },
          "metadata": {},
          "execution_count": 37
        },
        {
          "output_type": "display_data",
          "data": {
            "text/plain": [
              "<Figure size 640x480 with 1 Axes>"
            ],
            "image/png": "[encoded data removed]"
          },
          "metadata": {}
        }
      ]
    },
    {
      "cell_type": "code",
      "source": [
        "#impact of lead time on backorder\n",
        "pd.crosstab(df.lead_time,df.went_on_backorder).plot(kind='bar',title='impact of lead time on backorder',figsize=(20,20))"
      ],
      "metadata": {
        "colab": {
          "base_uri": "https://localhost:8080/",
          "height": 1000
        },
        "id": "nmyoe_Vm63DE",
        "outputId": "1a9a6c0d-3d7c-42ac-a5b6-c2212294755e"
      },
      "execution_count": 38,
      "outputs": [
        {
          "output_type": "execute_result",
          "data": {
            "text/plain": [
              "<Axes: title={'center': 'impact of lead time on backorder'}, xlabel='lead_time'>"
            ]
          },
          "metadata": {},
          "execution_count": 38
        },
        {
          "output_type": "display_data",
          "data": {
            "text/plain": [
              "<Figure size 2000x2000 with 1 Axes>"
            ],
            "image/png": "[encoded data removed]"
          },
          "metadata": {}
        }
      ]
    },
    {
      "cell_type": "code",
      "source": [
        "#within 12 days company should deliver the product"
      ],
      "metadata": {
        "id": "XdjaoYH47uzH"
      },
      "execution_count": 55,
      "outputs": []
    },
    {
      "cell_type": "code",
      "source": [],
      "metadata": {
        "id": "MP7uIH9A73TK"
      },
      "execution_count": null,
      "outputs": []
    },
    {
      "cell_type": "code",
      "execution_count": 39,
      "metadata": {
        "execution": {
          "iopub.execute_input": "2021-06-27T17:00:05.963602Z",
          "iopub.status.busy": "2021-06-27T17:00:05.963218Z",
          "iopub.status.idle": "2021-06-27T17:00:06.060931Z",
          "shell.execute_reply": "2021-06-27T17:00:06.060162Z",
          "shell.execute_reply.started": "2021-06-27T17:00:05.963526Z"
        },
        "id": "KNua0pKSSrIi"
      },
      "outputs": [],
      "source": [
        "#recode binary variables as 0 / 1 rather than No / Yes\n",
        "for col in ['potential_issue',\n",
        "            'deck_risk',\n",
        "            'oe_constraint',\n",
        "            'ppap_risk',\n",
        "            'stop_auto_buy',\n",
        "            'rev_stop',\n",
        "            'went_on_backorder']:\n",
        "    df[col]=pd.factorize(df[col])[0]"
      ]
    },
    {
      "cell_type": "code",
      "execution_count": 40,
      "metadata": {
        "execution": {
          "iopub.execute_input": "2021-06-27T17:00:06.06226Z",
          "iopub.status.busy": "2021-06-27T17:00:06.061904Z",
          "iopub.status.idle": "2021-06-27T17:00:06.311487Z",
          "shell.execute_reply": "2021-06-27T17:00:06.310842Z",
          "shell.execute_reply.started": "2021-06-27T17:00:06.062222Z"
        },
        "colab": {
          "base_uri": "https://localhost:8080/"
        },
        "id": "UaGnN9IrSrIj",
        "outputId": "2bc72f81-3166-4244-e652-94a97318d162"
      },
      "outputs": [
        {
          "output_type": "execute_result",
          "data": {
            "text/plain": [
              "array([0.75, 0.66, 0.78, 0.74, 0.96, 0.7 , 0.99, 0.76, 0.71, 0.88, 0.8 ,\n",
              "       0.86, 0.79, 0.09, 1.  , 0.  , 0.81, 0.67, 0.85, 0.24, 0.98, 0.63,\n",
              "       0.46, 0.9 , 0.82, 0.93, 0.83, 0.53, 0.64, 0.5 , 0.69, 0.59, 0.97,\n",
              "       0.16, 0.92, 0.84, 0.89, 0.61, 0.77, 0.42, 0.87, 0.95, 0.35, 0.94,\n",
              "       0.31, 0.91, 0.34, 0.18, 0.73, 0.13, 0.68, 0.48, 0.45, 0.27, 0.36,\n",
              "       0.05, 0.14, 0.41, 0.1 , 0.4 , 0.52, 0.6 , 0.32, 0.65, 0.26, 0.37,\n",
              "       0.56, 0.47, 0.62, 0.3 , 0.23, 0.01, 0.33, 0.28, 0.15, 0.49, 0.72,\n",
              "       0.57, 0.44, 0.04, 0.55, 0.08, 0.25, 0.22, 0.54, 0.06, 0.21, 0.43,\n",
              "       0.58, 0.2 , 0.17, 0.12, 0.51, 0.39, 0.19, 0.38, 0.11, 0.29, 0.07,\n",
              "       0.02, 0.03])"
            ]
          },
          "metadata": {},
          "execution_count": 40
        }
      ],
      "source": [
        "df['perf_12_month_avg'].unique()\n",
        "df['perf_6_month_avg']=df['perf_6_month_avg'].replace(-99, np.NaN)\n",
        "df['perf_12_month_avg']=df['perf_12_month_avg'].replace(-99, np.NaN)\n",
        "df.fillna(df.median(), inplace=True)"
      ]
    },
    {
      "cell_type": "code",
      "execution_count": 41,
      "metadata": {
        "execution": {
          "iopub.execute_input": "2021-06-27T17:00:06.312978Z",
          "iopub.status.busy": "2021-06-27T17:00:06.312542Z",
          "iopub.status.idle": "2021-06-27T17:00:06.350023Z",
          "shell.execute_reply": "2021-06-27T17:00:06.349252Z",
          "shell.execute_reply.started": "2021-06-27T17:00:06.312935Z"
        },
        "id": "jYpeG7EySrIk"
      },
      "outputs": [],
      "source": [
        "df=df.drop(['sku'],axis=1)"
      ]
    },
    {
      "cell_type": "code",
      "execution_count": 42,
      "metadata": {
        "execution": {
          "iopub.execute_input": "2021-06-27T17:00:06.351357Z",
          "iopub.status.busy": "2021-06-27T17:00:06.351009Z",
          "iopub.status.idle": "2021-06-27T17:00:06.384144Z",
          "shell.execute_reply": "2021-06-27T17:00:06.38343Z",
          "shell.execute_reply.started": "2021-06-27T17:00:06.35132Z"
        },
        "colab": {
          "base_uri": "https://localhost:8080/",
          "height": 299
        },
        "id": "_hFRseHySrIk",
        "outputId": "5297fdbf-d9e0-4763-d424-292503547006"
      },
      "outputs": [
        {
          "output_type": "execute_result",
          "data": {
            "text/plain": [
              "   national_inv  lead_time  in_transit_qty  forecast_3_month  \\\n",
              "0             8         12               0                 0   \n",
              "1            83          2              33               157   \n",
              "2             8          4               0                 0   \n",
              "3            31          4              63                70   \n",
              "4             3         12               0                 0   \n",
              "\n",
              "   forecast_6_month  forecast_9_month  sales_1_month  sales_3_month  \\\n",
              "0                 0                 0              1              1   \n",
              "1               377               603             44             98   \n",
              "2                 0                 0              0              0   \n",
              "3               160               223             27             90   \n",
              "4                 0                 0              0              0   \n",
              "\n",
              "   sales_6_month  sales_9_month  ...  pieces_past_due  perf_6_month_avg  \\\n",
              "0              2              5  ...                0              0.63   \n",
              "1            148            156  ...                0              0.68   \n",
              "2              1              1  ...                0              0.73   \n",
              "3            164            219  ...                0              0.73   \n",
              "4              0              0  ...                0              0.81   \n",
              "\n",
              "   perf_12_month_avg  local_bo_qty  deck_risk  oe_constraint  ppap_risk  \\\n",
              "0               0.75             0          0              0          0   \n",
              "1               0.66             0          0              0          0   \n",
              "2               0.78             0          0              0          0   \n",
              "3               0.78             0          0              0          1   \n",
              "4               0.74             0          0              0          0   \n",
              "\n",
              "   stop_auto_buy  rev_stop  went_on_backorder  \n",
              "0              0         0                  0  \n",
              "1              0         0                  0  \n",
              "2              0         0                  0  \n",
              "3              0         0                  0  \n",
              "4              0         0                  0  \n",
              "\n",
              "[5 rows x 22 columns]"
            ],
            "text/html": [
              "\n",
              "\n",
              "  <div id=\"df-ccc6d3b3-b002-442a-a94f-3d19203f7b3e\">\n",
              "    <div class=\"colab-df-container\">\n",
              "      <div>\n",
              "<style scoped>\n",
              "    .dataframe tbody tr th:only-of-type {\n",
              "        vertical-align: middle;\n",
              "    }\n",
              "\n",
              "    .dataframe tbody tr th {\n",
              "        vertical-align: top;\n",
              "    }\n",
              "\n",
              "    .dataframe thead th {\n",
              "        text-align: right;\n",
              "    }\n",
              "</style>\n",
              "<table border=\"1\" class=\"dataframe\">\n",
              "  <thead>\n",
              "    <tr style=\"text-align: right;\">\n",
              "      <th></th>\n",
              "      <th>national_inv</th>\n",
              "      <th>lead_time</th>\n",
              "      <th>in_transit_qty</th>\n",
              "      <th>forecast_3_month</th>\n",
              "      <th>forecast_6_month</th>\n",
              "      <th>forecast_9_month</th>\n",
              "      <th>sales_1_month</th>\n",
              "      <th>sales_3_month</th>\n",
              "      <th>sales_6_month</th>\n",
              "      <th>sales_9_month</th>\n",
              "      <th>...</th>\n",
              "      <th>pieces_past_due</th>\n",
              "      <th>perf_6_month_avg</th>\n",
              "      <th>perf_12_month_avg</th>\n",
              "      <th>local_bo_qty</th>\n",
              "      <th>deck_risk</th>\n",
              "      <th>oe_constraint</th>\n",
              "      <th>ppap_risk</th>\n",
              "      <th>stop_auto_buy</th>\n",
              "      <th>rev_stop</th>\n",
              "      <th>went_on_backorder</th>\n",
              "    </tr>\n",
              "  </thead>\n",
              "  <tbody>\n",
              "    <tr>\n",
              "      <th>0</th>\n",
              "      <td>8</td>\n",
              "      <td>12</td>\n",
              "      <td>0</td>\n",
              "      <td>0</td>\n",
              "      <td>0</td>\n",
              "      <td>0</td>\n",
              "      <td>1</td>\n",
              "      <td>1</td>\n",
              "      <td>2</td>\n",
              "      <td>5</td>\n",
              "      <td>...</td>\n",
              "      <td>0</td>\n",
              "      <td>0.63</td>\n",
              "      <td>0.75</td>\n",
              "      <td>0</td>\n",
              "      <td>0</td>\n",
              "      <td>0</td>\n",
              "      <td>0</td>\n",
              "      <td>0</td>\n",
              "      <td>0</td>\n",
              "      <td>0</td>\n",
              "    </tr>\n",
              "    <tr>\n",
              "      <th>1</th>\n",
              "      <td>83</td>\n",
              "      <td>2</td>\n",
              "      <td>33</td>\n",
              "      <td>157</td>\n",
              "      <td>377</td>\n",
              "      <td>603</td>\n",
              "      <td>44</td>\n",
              "      <td>98</td>\n",
              "      <td>148</td>\n",
              "      <td>156</td>\n",
              "      <td>...</td>\n",
              "      <td>0</td>\n",
              "      <td>0.68</td>\n",
              "      <td>0.66</td>\n",
              "      <td>0</td>\n",
              "      <td>0</td>\n",
              "      <td>0</td>\n",
              "      <td>0</td>\n",
              "      <td>0</td>\n",
              "      <td>0</td>\n",
              "      <td>0</td>\n",
              "    </tr>\n",
              "    <tr>\n",
              "      <th>2</th>\n",
              "      <td>8</td>\n",
              "      <td>4</td>\n",
              "      <td>0</td>\n",
              "      <td>0</td>\n",
              "      <td>0</td>\n",
              "      <td>0</td>\n",
              "      <td>0</td>\n",
              "      <td>0</td>\n",
              "      <td>1</td>\n",
              "      <td>1</td>\n",
              "      <td>...</td>\n",
              "      <td>0</td>\n",
              "      <td>0.73</td>\n",
              "      <td>0.78</td>\n",
              "      <td>0</td>\n",
              "      <td>0</td>\n",
              "      <td>0</td>\n",
              "      <td>0</td>\n",
              "      <td>0</td>\n",
              "      <td>0</td>\n",
              "      <td>0</td>\n",
              "    </tr>\n",
              "    <tr>\n",
              "      <th>3</th>\n",
              "      <td>31</td>\n",
              "      <td>4</td>\n",
              "      <td>63</td>\n",
              "      <td>70</td>\n",
              "      <td>160</td>\n",
              "      <td>223</td>\n",
              "      <td>27</td>\n",
              "      <td>90</td>\n",
              "      <td>164</td>\n",
              "      <td>219</td>\n",
              "      <td>...</td>\n",
              "      <td>0</td>\n",
              "      <td>0.73</td>\n",
              "      <td>0.78</td>\n",
              "      <td>0</td>\n",
              "      <td>0</td>\n",
              "      <td>0</td>\n",
              "      <td>1</td>\n",
              "      <td>0</td>\n",
              "      <td>0</td>\n",
              "      <td>0</td>\n",
              "    </tr>\n",
              "    <tr>\n",
              "      <th>4</th>\n",
              "      <td>3</td>\n",
              "      <td>12</td>\n",
              "      <td>0</td>\n",
              "      <td>0</td>\n",
              "      <td>0</td>\n",
              "      <td>0</td>\n",
              "      <td>0</td>\n",
              "      <td>0</td>\n",
              "      <td>0</td>\n",
              "      <td>0</td>\n",
              "      <td>...</td>\n",
              "      <td>0</td>\n",
              "      <td>0.81</td>\n",
              "      <td>0.74</td>\n",
              "      <td>0</td>\n",
              "      <td>0</td>\n",
              "      <td>0</td>\n",
              "      <td>0</td>\n",
              "      <td>0</td>\n",
              "      <td>0</td>\n",
              "      <td>0</td>\n",
              "    </tr>\n",
              "  </tbody>\n",
              "</table>\n",
              "<p>5 rows × 22 columns</p>\n",
              "</div>\n",
              "      <button class=\"colab-df-convert\" onclick=\"convertToInteractive('df-ccc6d3b3-b002-442a-a94f-3d19203f7b3e')\"\n",
              "              title=\"Convert this dataframe to an interactive table.\"\n",
              "              style=\"display:none;\">\n",
              "\n",
              "  <svg xmlns=\"http://www.w3.org/2000/svg\" height=\"24px\"viewBox=\"0 0 24 24\"\n",
              "       width=\"24px\">\n",
              "    <path d=\"M0 0h24v24H0V0z\" fill=\"none\"/>\n",
              "    <path d=\"M18.56 5.44l.94 2.06.94-2.06 2.06-.94-2.06-.94-.94-2.06-.94 2.06-2.06.94zm-11 1L8.5 8.5l.94-2.06 2.06-.94-2.06-.94L8.5 2.5l-.94 2.06-2.06.94zm10 10l.94 2.06.94-2.06 2.06-.94-2.06-.94-.94-2.06-.94 2.06-2.06.94z\"/><path d=\"M17.41 7.96l-1.37-1.37c-.4-.4-.92-.59-1.43-.59-.52 0-1.04.2-1.43.59L10.3 9.45l-7.72 7.72c-.78.78-.78 2.05 0 2.83L4 21.41c.39.39.9.59 1.41.59.51 0 1.02-.2 1.41-.59l7.78-7.78 2.81-2.81c.8-.78.8-2.07 0-2.86zM5.41 20L4 18.59l7.72-7.72 1.47 1.35L5.41 20z\"/>\n",
              "  </svg>\n",
              "      </button>\n",
              "\n",
              "\n",
              "\n",
              "    <div id=\"df-95940f74-6ecf-44b1-800a-732bf284beda\">\n",
              "      <button class=\"colab-df-quickchart\" onclick=\"quickchart('df-95940f74-6ecf-44b1-800a-732bf284beda')\"\n",
              "              title=\"Suggest charts.\"\n",
              "              style=\"display:none;\">\n",
              "\n",
              "<svg xmlns=\"http://www.w3.org/2000/svg\" height=\"24px\"viewBox=\"0 0 24 24\"\n",
              "     width=\"24px\">\n",
              "    <g>\n",
              "        <path d=\"M19 3H5c-1.1 0-2 .9-2 2v14c0 1.1.9 2 2 2h14c1.1 0 2-.9 2-2V5c0-1.1-.9-2-2-2zM9 17H7v-7h2v7zm4 0h-2V7h2v10zm4 0h-2v-4h2v4z\"/>\n",
              "    </g>\n",
              "</svg>\n",
              "      </button>\n",
              "    </div>\n",
              "\n",
              "<style>\n",
              "  .colab-df-quickchart {\n",
              "    background-color: #E8F0FE;\n",
              "    border: none;\n",
              "    border-radius: 50%;\n",
              "    cursor: pointer;\n",
              "    display: none;\n",
              "    fill: #1967D2;\n",
              "    height: 32px;\n",
              "    padding: 0 0 0 0;\n",
              "    width: 32px;\n",
              "  }\n",
              "\n",
              "  .colab-df-quickchart:hover {\n",
              "    background-color: #E2EBFA;\n",
              "    box-shadow: 0px 1px 2px rgba(60, 64, 67, 0.3), 0px 1px 3px 1px rgba(60, 64, 67, 0.15);\n",
              "    fill: #174EA6;\n",
              "  }\n",
              "\n",
              "  [theme=dark] .colab-df-quickchart {\n",
              "    background-color: #3B4455;\n",
              "    fill: #D2E3FC;\n",
              "  }\n",
              "\n",
              "  [theme=dark] .colab-df-quickchart:hover {\n",
              "    background-color: #434B5C;\n",
              "    box-shadow: 0px 1px 3px 1px rgba(0, 0, 0, 0.15);\n",
              "    filter: drop-shadow(0px 1px 2px rgba(0, 0, 0, 0.3));\n",
              "    fill: #FFFFFF;\n",
              "  }\n",
              "</style>\n",
              "\n",
              "    <script>\n",
              "      async function quickchart(key) {\n",
              "        const containerElement = document.querySelector('#' + key);\n",
              "        const charts = await google.colab.kernel.invokeFunction(\n",
              "            'suggestCharts', [key], {});\n",
              "      }\n",
              "    </script>\n",
              "\n",
              "\n",
              "      <script>\n",
              "\n",
              "function displayQuickchartButton(domScope) {\n",
              "  let quickchartButtonEl =\n",
              "    domScope.querySelector('#df-95940f74-6ecf-44b1-800a-732bf284beda button.colab-df-quickchart');\n",
              "  quickchartButtonEl.style.display =\n",
              "    google.colab.kernel.accessAllowed ? 'block' : 'none';\n",
              "}\n",
              "\n",
              "        displayQuickchartButton(document);\n",
              "      </script>\n",
              "      <style>\n",
              "    .colab-df-container {\n",
              "      display:flex;\n",
              "      flex-wrap:wrap;\n",
              "      gap: 12px;\n",
              "    }\n",
              "\n",
              "    .colab-df-convert {\n",
              "      background-color: #E8F0FE;\n",
              "      border: none;\n",
              "      border-radius: 50%;\n",
              "      cursor: pointer;\n",
              "      display: none;\n",
              "      fill: #1967D2;\n",
              "      height: 32px;\n",
              "      padding: 0 0 0 0;\n",
              "      width: 32px;\n",
              "    }\n",
              "\n",
              "    .colab-df-convert:hover {\n",
              "      background-color: #E2EBFA;\n",
              "      box-shadow: 0px 1px 2px rgba(60, 64, 67, 0.3), 0px 1px 3px 1px rgba(60, 64, 67, 0.15);\n",
              "      fill: #174EA6;\n",
              "    }\n",
              "\n",
              "    [theme=dark] .colab-df-convert {\n",
              "      background-color: #3B4455;\n",
              "      fill: #D2E3FC;\n",
              "    }\n",
              "\n",
              "    [theme=dark] .colab-df-convert:hover {\n",
              "      background-color: #434B5C;\n",
              "      box-shadow: 0px 1px 3px 1px rgba(0, 0, 0, 0.15);\n",
              "      filter: drop-shadow(0px 1px 2px rgba(0, 0, 0, 0.3));\n",
              "      fill: #FFFFFF;\n",
              "    }\n",
              "  </style>\n",
              "\n",
              "      <script>\n",
              "        const buttonEl =\n",
              "          document.querySelector('#df-ccc6d3b3-b002-442a-a94f-3d19203f7b3e button.colab-df-convert');\n",
              "        buttonEl.style.display =\n",
              "          google.colab.kernel.accessAllowed ? 'block' : 'none';\n",
              "\n",
              "        async function convertToInteractive(key) {\n",
              "          const element = document.querySelector('#df-ccc6d3b3-b002-442a-a94f-3d19203f7b3e');\n",
              "          const dataTable =\n",
              "            await google.colab.kernel.invokeFunction('convertToInteractive',\n",
              "                                                     [key], {});\n",
              "          if (!dataTable) return;\n",
              "\n",
              "          const docLinkHtml = 'Like what you see? Visit the ' +\n",
              "            '<a target=\"_blank\" href=https://colab.research.google.com/notebooks/data_table.ipynb>data table notebook</a>'\n",
              "            + ' to learn more about interactive tables.';\n",
              "          element.innerHTML = '';\n",
              "          dataTable['output_type'] = 'display_data';\n",
              "          await google.colab.output.renderOutput(dataTable, element);\n",
              "          const docLink = document.createElement('div');\n",
              "          docLink.innerHTML = docLinkHtml;\n",
              "          element.appendChild(docLink);\n",
              "        }\n",
              "      </script>\n",
              "    </div>\n",
              "  </div>\n"
            ]
          },
          "metadata": {},
          "execution_count": 42
        }
      ],
      "source": [
        "df.head()"
      ]
    },
    {
      "cell_type": "code",
      "execution_count": 43,
      "metadata": {
        "execution": {
          "iopub.execute_input": "2021-06-27T17:00:06.385422Z",
          "iopub.status.busy": "2021-06-27T17:00:06.385095Z",
          "iopub.status.idle": "2021-06-27T17:00:06.470947Z",
          "shell.execute_reply": "2021-06-27T17:00:06.470312Z",
          "shell.execute_reply.started": "2021-06-27T17:00:06.385385Z"
        },
        "colab": {
          "base_uri": "https://localhost:8080/"
        },
        "id": "5uupENT5SrIl",
        "outputId": "9ee146f3-679a-4213-e96c-0dba5b5a58d8"
      },
      "outputs": [
        {
          "output_type": "stream",
          "name": "stdout",
          "text": [
            "<class 'pandas.core.frame.DataFrame'>\n",
            "RangeIndex: 250078 entries, 0 to 250077\n",
            "Data columns (total 22 columns):\n",
            " #   Column             Non-Null Count   Dtype  \n",
            "---  ------             --------------   -----  \n",
            " 0   national_inv       250078 non-null  int64  \n",
            " 1   lead_time          250078 non-null  int64  \n",
            " 2   in_transit_qty     250078 non-null  int64  \n",
            " 3   forecast_3_month   250078 non-null  int64  \n",
            " 4   forecast_6_month   250078 non-null  int64  \n",
            " 5   forecast_9_month   250078 non-null  int64  \n",
            " 6   sales_1_month      250078 non-null  int64  \n",
            " 7   sales_3_month      250078 non-null  int64  \n",
            " 8   sales_6_month      250078 non-null  int64  \n",
            " 9   sales_9_month      250078 non-null  int64  \n",
            " 10  min_bank           250078 non-null  int64  \n",
            " 11  potential_issue    250078 non-null  int64  \n",
            " 12  pieces_past_due    250078 non-null  int64  \n",
            " 13  perf_6_month_avg   250078 non-null  float64\n",
            " 14  perf_12_month_avg  250078 non-null  float64\n",
            " 15  local_bo_qty       250078 non-null  int64  \n",
            " 16  deck_risk          250078 non-null  int64  \n",
            " 17  oe_constraint      250078 non-null  int64  \n",
            " 18  ppap_risk          250078 non-null  int64  \n",
            " 19  stop_auto_buy      250078 non-null  int64  \n",
            " 20  rev_stop           250078 non-null  int64  \n",
            " 21  went_on_backorder  250078 non-null  int64  \n",
            "dtypes: float64(2), int64(20)\n",
            "memory usage: 42.0 MB\n"
          ]
        }
      ],
      "source": [
        "df.info()"
      ]
    },
    {
      "cell_type": "code",
      "execution_count": 44,
      "metadata": {
        "execution": {
          "iopub.execute_input": "2021-06-27T17:00:06.472264Z",
          "iopub.status.busy": "2021-06-27T17:00:06.471929Z",
          "iopub.status.idle": "2021-06-27T17:00:06.486747Z",
          "shell.execute_reply": "2021-06-27T17:00:06.485867Z",
          "shell.execute_reply.started": "2021-06-27T17:00:06.472227Z"
        },
        "id": "RGugZ0kvSrIl"
      },
      "outputs": [],
      "source": [
        "Y=df['went_on_backorder']\n",
        "X=df.drop(['went_on_backorder'],axis=1)"
      ]
    },
    {
      "cell_type": "code",
      "execution_count": 45,
      "metadata": {
        "execution": {
          "iopub.execute_input": "2021-06-27T17:00:06.488408Z",
          "iopub.status.busy": "2021-06-27T17:00:06.488087Z",
          "iopub.status.idle": "2021-06-27T17:00:06.608025Z",
          "shell.execute_reply": "2021-06-27T17:00:06.607251Z",
          "shell.execute_reply.started": "2021-06-27T17:00:06.488361Z"
        },
        "id": "igEDbQeSSrIl"
      },
      "outputs": [],
      "source": [
        "from sklearn.model_selection import train_test_split\n",
        "X_train, X_test, Y_train, Y_test = train_test_split(X, Y, test_size = 0.1, random_state = 1)"
      ]
    },
    {
      "cell_type": "code",
      "execution_count": 46,
      "metadata": {
        "execution": {
          "iopub.execute_input": "2021-06-27T17:00:06.609454Z",
          "iopub.status.busy": "2021-06-27T17:00:06.609222Z",
          "iopub.status.idle": "2021-06-27T17:00:07.905258Z",
          "shell.execute_reply": "2021-06-27T17:00:07.904317Z",
          "shell.execute_reply.started": "2021-06-27T17:00:06.609414Z"
        },
        "colab": {
          "base_uri": "https://localhost:8080/",
          "height": 74
        },
        "id": "UL9_0JaASrIm",
        "outputId": "2e318082-70e2-4cc7-c403-9e2759637be9"
      },
      "outputs": [
        {
          "output_type": "execute_result",
          "data": {
            "text/plain": [
              "RandomForestClassifier(n_jobs=-1)"
            ],
            "text/html": [
              "<style>#sk-container-id-1 {color: black;background-color: white;}#sk-container-id-1 pre{padding: 0;}#sk-container-id-1 div.sk-toggleable {background-color: white;}#sk-container-id-1 label.sk-toggleable__label {cursor: pointer;display: block;width: 100%;margin-bottom: 0;padding: 0.3em;box-sizing: border-box;text-align: center;}#sk-container-id-1 label.sk-toggleable__label-arrow:before {content: \"▸\";float: left;margin-right: 0.25em;color: #696969;}#sk-container-id-1 label.sk-toggleable__label-arrow:hover:before {color: black;}#sk-container-id-1 div.sk-estimator:hover label.sk-toggleable__label-arrow:before {color: black;}#sk-container-id-1 div.sk-toggleable__content {max-height: 0;max-width: 0;overflow: hidden;text-align: left;background-color: #f0f8ff;}#sk-container-id-1 div.sk-toggleable__content pre {margin: 0.2em;color: black;border-radius: 0.25em;background-color: #f0f8ff;}#sk-container-id-1 input.sk-toggleable__control:checked~div.sk-toggleable__content {max-height: 200px;max-width: 100%;overflow: auto;}#sk-container-id-1 input.sk-toggleable__control:checked~label.sk-toggleable__label-arrow:before {content: \"▾\";}#sk-container-id-1 div.sk-estimator input.sk-toggleable__control:checked~label.sk-toggleable__label {background-color: #d4ebff;}#sk-container-id-1 div.sk-label input.sk-toggleable__control:checked~label.sk-toggleable__label {background-color: #d4ebff;}#sk-container-id-1 input.sk-hidden--visually {border: 0;clip: rect(1px 1px 1px 1px);clip: rect(1px, 1px, 1px, 1px);height: 1px;margin: -1px;overflow: hidden;padding: 0;position: absolute;width: 1px;}#sk-container-id-1 div.sk-estimator {font-family: monospace;background-color: #f0f8ff;border: 1px dotted black;border-radius: 0.25em;box-sizing: border-box;margin-bottom: 0.5em;}#sk-container-id-1 div.sk-estimator:hover {background-color: #d4ebff;}#sk-container-id-1 div.sk-parallel-item::after {content: \"\";width: 100%;border-bottom: 1px solid gray;flex-grow: 1;}#sk-container-id-1 div.sk-label:hover label.sk-toggleable__label {background-color: #d4ebff;}#sk-container-id-1 div.sk-serial::before {content: \"\";position: absolute;border-left: 1px solid gray;box-sizing: border-box;top: 0;bottom: 0;left: 50%;z-index: 0;}#sk-container-id-1 div.sk-serial {display: flex;flex-direction: column;align-items: center;background-color: white;padding-right: 0.2em;padding-left: 0.2em;position: relative;}#sk-container-id-1 div.sk-item {position: relative;z-index: 1;}#sk-container-id-1 div.sk-parallel {display: flex;align-items: stretch;justify-content: center;background-color: white;position: relative;}#sk-container-id-1 div.sk-item::before, #sk-container-id-1 div.sk-parallel-item::before {content: \"\";position: absolute;border-left: 1px solid gray;box-sizing: border-box;top: 0;bottom: 0;left: 50%;z-index: -1;}#sk-container-id-1 div.sk-parallel-item {display: flex;flex-direction: column;z-index: 1;position: relative;background-color: white;}#sk-container-id-1 div.sk-parallel-item:first-child::after {align-self: flex-end;width: 50%;}#sk-container-id-1 div.sk-parallel-item:last-child::after {align-self: flex-start;width: 50%;}#sk-container-id-1 div.sk-parallel-item:only-child::after {width: 0;}#sk-container-id-1 div.sk-dashed-wrapped {border: 1px dashed gray;margin: 0 0.4em 0.5em 0.4em;box-sizing: border-box;padding-bottom: 0.4em;background-color: white;}#sk-container-id-1 div.sk-label label {font-family: monospace;font-weight: bold;display: inline-block;line-height: 1.2em;}#sk-container-id-1 div.sk-label-container {text-align: center;}#sk-container-id-1 div.sk-container {/* jupyter's `normalize.less` sets `[hidden] { display: none; }` but bootstrap.min.css set `[hidden] { display: none !important; }` so we also need the `!important` here to be able to override the default hidden behavior on the sphinx rendered scikit-learn.org. See: https://github.com/scikit-learn/scikit-learn/issues/21755 */display: inline-block !important;position: relative;}#sk-container-id-1 div.sk-text-repr-fallback {display: none;}</style><div id=\"sk-container-id-1\" class=\"sk-top-container\"><div class=\"sk-text-repr-fallback\"><pre>RandomForestClassifier(n_jobs=-1)</pre><b>In a Jupyter environment, please rerun this cell to show the HTML representation or trust the notebook. <br />On GitHub, the HTML representation is unable to render, please try loading this page with nbviewer.org.</b></div><div class=\"sk-container\" hidden><div class=\"sk-item\"><div class=\"sk-estimator sk-toggleable\"><input class=\"sk-toggleable__control sk-hidden--visually\" id=\"sk-estimator-id-1\" type=\"checkbox\" checked><label for=\"sk-estimator-id-1\" class=\"sk-toggleable__label sk-toggleable__label-arrow\">RandomForestClassifier</label><div class=\"sk-toggleable__content\"><pre>RandomForestClassifier(n_jobs=-1)</pre></div></div></div></div></div>"
            ]
          },
          "metadata": {},
          "execution_count": 46
        }
      ],
      "source": [
        "from sklearn.ensemble import RandomForestClassifier\n",
        "RF = RandomForestClassifier(n_jobs = -1)\n",
        "RF.fit(X_train, Y_train)\n",
        "Y_pred = RF.predict(X_test)"
      ]
    },
    {
      "cell_type": "code",
      "execution_count": 47,
      "metadata": {
        "execution": {
          "iopub.execute_input": "2021-06-27T17:00:07.906659Z",
          "iopub.status.busy": "2021-06-27T17:00:07.906432Z",
          "iopub.status.idle": "2021-06-27T17:00:08.019533Z",
          "shell.execute_reply": "2021-06-27T17:00:08.018495Z",
          "shell.execute_reply.started": "2021-06-27T17:00:07.906619Z"
        },
        "colab": {
          "base_uri": "https://localhost:8080/"
        },
        "id": "Jx-EGUElSrIm",
        "outputId": "3ab53ef9-1a47-46ef-b8f3-0e0b33f16d6a"
      },
      "outputs": [
        {
          "output_type": "execute_result",
          "data": {
            "text/plain": [
              "0.99420185540627"
            ]
          },
          "metadata": {},
          "execution_count": 47
        }
      ],
      "source": [
        "RF.score(X_test,Y_test)"
      ]
    },
    {
      "cell_type": "code",
      "execution_count": 48,
      "metadata": {
        "execution": {
          "iopub.execute_input": "2021-06-27T17:00:08.021057Z",
          "iopub.status.busy": "2021-06-27T17:00:08.020822Z",
          "iopub.status.idle": "2021-06-27T17:00:08.028735Z",
          "shell.execute_reply": "2021-06-27T17:00:08.027718Z",
          "shell.execute_reply.started": "2021-06-27T17:00:08.021022Z"
        },
        "colab": {
          "base_uri": "https://localhost:8080/"
        },
        "id": "JQswGrv-SrIm",
        "outputId": "de5a11f5-92d2-4e10-c748-c06875ceedee"
      },
      "outputs": [
        {
          "output_type": "stream",
          "name": "stdout",
          "text": [
            "Random Forest Classifier accuracy: 0.994\n"
          ]
        }
      ],
      "source": [
        "from sklearn.metrics import classification_report, confusion_matrix, accuracy_score, roc_auc_score, roc_curve, auc, precision_recall_curve\n",
        "print('Random Forest Classifier accuracy: %0.3f'% accuracy_score(Y_pred, Y_test))"
      ]
    },
    {
      "cell_type": "code",
      "execution_count": 49,
      "metadata": {
        "execution": {
          "iopub.execute_input": "2021-06-27T17:00:08.030435Z",
          "iopub.status.busy": "2021-06-27T17:00:08.030131Z",
          "iopub.status.idle": "2021-06-27T17:00:08.049973Z",
          "shell.execute_reply": "2021-06-27T17:00:08.049169Z",
          "shell.execute_reply.started": "2021-06-27T17:00:08.030377Z"
        },
        "colab": {
          "base_uri": "https://localhost:8080/"
        },
        "id": "cX0omUdhSrIm",
        "outputId": "b82b1aa4-ab1b-43b6-a518-c5d6d6449ffe"
      },
      "outputs": [
        {
          "output_type": "stream",
          "name": "stdout",
          "text": [
            "Random Forest Classifier report \n",
            "               precision    recall  f1-score   support\n",
            "\n",
            "           0       1.00      0.99      1.00     24991\n",
            "           1       0.09      0.82      0.16        17\n",
            "\n",
            "    accuracy                           0.99     25008\n",
            "   macro avg       0.54      0.91      0.58     25008\n",
            "weighted avg       1.00      0.99      1.00     25008\n",
            "\n"
          ]
        }
      ],
      "source": [
        "print(\"Random Forest Classifier report \\n\", classification_report(Y_pred, Y_test))"
      ]
    },
    {
      "cell_type": "code",
      "execution_count": 50,
      "metadata": {
        "execution": {
          "iopub.execute_input": "2021-06-27T17:00:08.051408Z",
          "iopub.status.busy": "2021-06-27T17:00:08.051153Z",
          "iopub.status.idle": "2021-06-27T17:00:08.067307Z",
          "shell.execute_reply": "2021-06-27T17:00:08.066577Z",
          "shell.execute_reply.started": "2021-06-27T17:00:08.051361Z"
        },
        "id": "0yWUyIIuSrIn"
      },
      "outputs": [],
      "source": [
        "def roc_curve_acc(Y_test, Y_pred, method):\n",
        "    false_positive_rate, true_positive_rate, thresholds = roc_curve(Y_test, Y_pred)\n",
        "    roc_auc = auc(false_positive_rate, true_positive_rate)\n",
        "    plt.title('Receiver Operating Characteristic')\n",
        "    plt.plot(false_positive_rate, true_positive_rate, color='cyan' ,label='%s AUC = %0.3f'% (method, roc_auc))\n",
        "    plt.legend(loc = 'lower right')\n",
        "    plt.plot([0,1],[0,1],'r--')\n",
        "    plt.xlim([-0.1,1.2])\n",
        "    plt.ylim([-0.1,1.2])\n",
        "    plt.ylabel('True Positive Rate')\n",
        "    plt.xlabel('False Positive Rate')"
      ]
    },
    {
      "cell_type": "code",
      "source": [
        "roc_curve_acc(Y_test, Y_pred, \"RF\")"
      ],
      "metadata": {
        "colab": {
          "base_uri": "https://localhost:8080/",
          "height": 472
        },
        "id": "NaRDFuay--yL",
        "outputId": "45c6bd4c-7100-406c-893e-da7a8d3b8537"
      },
      "execution_count": 56,
      "outputs": [
        {
          "output_type": "display_data",
          "data": {
            "text/plain": [
              "<Figure size 640x480 with 1 Axes>"
            ],
            "image/png": "[encoded data removed]"
          },
          "metadata": {}
        }
      ]
    },
    {
      "cell_type": "code",
      "execution_count": 57,
      "metadata": {
        "execution": {
          "iopub.execute_input": "2021-06-27T17:00:08.06889Z",
          "iopub.status.busy": "2021-06-27T17:00:08.068432Z",
          "iopub.status.idle": "2021-06-27T17:00:08.086719Z",
          "shell.execute_reply": "2021-06-27T17:00:08.085581Z",
          "shell.execute_reply.started": "2021-06-27T17:00:08.068836Z"
        },
        "colab": {
          "base_uri": "https://localhost:8080/"
        },
        "id": "t7IpiT-NSrIn",
        "outputId": "3c49e806-ec48-4d79-d398-798f70b77a01"
      },
      "outputs": [
        {
          "output_type": "stream",
          "name": "stdout",
          "text": [
            "roc_auc_score: 0.909\n"
          ]
        }
      ],
      "source": [
        "print('roc_auc_score: %0.3f'% roc_auc_score(Y_pred, Y_test))"
      ]
    },
    {
      "cell_type": "code",
      "execution_count": 58,
      "metadata": {
        "execution": {
          "iopub.execute_input": "2021-06-27T17:00:08.088413Z",
          "iopub.status.busy": "2021-06-27T17:00:08.088019Z",
          "iopub.status.idle": "2021-06-27T17:00:08.096889Z",
          "shell.execute_reply": "2021-06-27T17:00:08.096055Z",
          "shell.execute_reply.started": "2021-06-27T17:00:08.088357Z"
        },
        "colab": {
          "base_uri": "https://localhost:8080/"
        },
        "id": "5srwu5M7SrIn",
        "outputId": "178e9222-c988-41bf-8f02-b18da2cd96dd"
      },
      "outputs": [
        {
          "output_type": "stream",
          "name": "stdout",
          "text": [
            "Random Forest Classifier accuracy: 0.994\n"
          ]
        }
      ],
      "source": [
        "from sklearn.metrics import classification_report, confusion_matrix, accuracy_score, roc_auc_score, roc_curve, auc, precision_recall_curve\n",
        "print('Random Forest Classifier accuracy: %0.3f'% accuracy_score(Y_pred, Y_test))"
      ]
    }
  ],
  "metadata": {
    "kernelspec": {
      "display_name": "Python 3 (ipykernel)",
      "language": "python",
      "name": "python3"
    },
    "language_info": {
      "codemirror_mode": {
        "name": "ipython",
        "version": 3
      },
      "file_extension": ".py",
      "mimetype": "text/x-python",
      "name": "python",
      "nbconvert_exporter": "python",
      "pygments_lexer": "ipython3",
      "version": "3.9.16"
    },
    "colab": {
      "provenance": []
    }
  },
  "nbformat": 4,
  "nbformat_minor": 0
}
